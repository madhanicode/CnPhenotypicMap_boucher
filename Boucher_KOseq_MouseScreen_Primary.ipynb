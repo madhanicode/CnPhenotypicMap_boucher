{
 "cells": [
  {
   "cell_type": "code",
   "execution_count": 1,
   "id": "ea67ca99-3a3e-41c3-ad3f-f1bc2011e820",
   "metadata": {},
   "outputs": [],
   "source": [
    "#This script analyzes counts data from the primary KO-seq mouse infectivity screen"
   ]
  },
  {
   "cell_type": "code",
   "execution_count": 2,
   "id": "e978377f",
   "metadata": {},
   "outputs": [
    {
     "name": "stderr",
     "output_type": "stream",
     "text": [
      "\n",
      "Attaching package: ‘dplyr’\n",
      "\n",
      "\n",
      "The following objects are masked from ‘package:stats’:\n",
      "\n",
      "    filter, lag\n",
      "\n",
      "\n",
      "The following objects are masked from ‘package:base’:\n",
      "\n",
      "    intersect, setdiff, setequal, union\n",
      "\n",
      "\n",
      "Warning message:\n",
      "“package ‘cowplot’ was built under R version 4.3.3”\n",
      "Warning message:\n",
      "“package ‘gridExtra’ was built under R version 4.3.3”\n",
      "\n",
      "Attaching package: ‘gridExtra’\n",
      "\n",
      "\n",
      "The following object is masked from ‘package:dplyr’:\n",
      "\n",
      "    combine\n",
      "\n",
      "\n",
      "Registering fonts with R\n",
      "\n"
     ]
    }
   ],
   "source": [
    "library(dplyr)\n",
    "library(tidyr)\n",
    "library(ggplot2)\n",
    "library(cowplot)\n",
    "library(gridExtra)\n",
    "library(extrafont)"
   ]
  },
  {
   "cell_type": "code",
   "execution_count": 3,
   "id": "a958d6cd",
   "metadata": {},
   "outputs": [
    {
     "name": "stdin",
     "output_type": "stream",
     "text": [
      "Importing fonts may take a few minutes, depending on the number of fonts and the speed of the system.\n",
      "Continue? [y/n]  y\n"
     ]
    },
    {
     "name": "stderr",
     "output_type": "stream",
     "text": [
      "Scanning ttf files in /usr/share/fonts/, /usr/local/share/fonts/ ...\n",
      "\n",
      "Extracting .afm files from .ttf files...\n",
      "\n",
      "/usr/share/fonts/truetype/msttcorefonts/Arial_Black.ttf\n",
      " : Arial-Black already registered in fonts database. Skipping.\n",
      "\n",
      "/usr/share/fonts/truetype/msttcorefonts/Arial_Bold_Italic.ttf\n",
      " : Arial-BoldItalicMT already registered in fonts database. Skipping.\n",
      "\n",
      "/usr/share/fonts/truetype/msttcorefonts/Arial_Bold.ttf\n",
      " : Arial-BoldMT already registered in fonts database. Skipping.\n",
      "\n",
      "/usr/share/fonts/truetype/msttcorefonts/Arial_Italic.ttf\n",
      " : Arial-ItalicMT already registered in fonts database. Skipping.\n",
      "\n",
      "/usr/share/fonts/truetype/msttcorefonts/Arial.ttf\n",
      " : ArialMT already registered in fonts database. Skipping.\n",
      "\n",
      "/usr/share/fonts/truetype/msttcorefonts/Arial.ttf\n",
      " : ArialMT already registered in fonts database. Skipping.\n",
      "\n",
      "/usr/share/fonts/truetype/msttcorefonts/Arial_Bold.ttf\n",
      " : Arial-BoldMT already registered in fonts database. Skipping.\n",
      "\n",
      "/usr/share/fonts/truetype/msttcorefonts/Arial_Bold_Italic.ttf\n",
      " : Arial-BoldItalicMT already registered in fonts database. Skipping.\n",
      "\n",
      "/usr/share/fonts/truetype/msttcorefonts/Arial_Italic.ttf\n",
      " : Arial-ItalicMT already registered in fonts database. Skipping.\n",
      "\n",
      "/usr/share/fonts/truetype/msttcorefonts/Arial_Black.ttf\n",
      " : Arial-Black already registered in fonts database. Skipping.\n",
      "\n",
      "Found FontName for 0 fonts.\n",
      "\n",
      "Scanning afm files in /home/michael/miniconda3/envs/mike4/lib/R/library/extrafontdb/metrics\n",
      "\n"
     ]
    }
   ],
   "source": [
    "font_import(pattern = 'Arial')"
   ]
  },
  {
   "cell_type": "code",
   "execution_count": 4,
   "id": "4656fb04",
   "metadata": {},
   "outputs": [],
   "source": [
    "#Import files\n",
    "\n",
    "#.csv files containing upstream and downstream KO-seq read counts\n",
    "my_directory <- './MouseScreen_csvs/'\n",
    "my_files <- list.files(my_directory, pattern = '*_dedup_counts.csv')\n",
    "\n",
    "#Dataframe of KO's in deletion library with corresponding plate numbers and QC information\n",
    "KO_list <- read.csv('./KO_Plate_QC_List.csv', header = TRUE)\n",
    "\n",
    "#Dataframe containing information for C. neoformans H99 protein-coding genes, from FungiDB66\n",
    "gene_info_df <- read.csv('./GeneInfo_FungiDB66.csv', header = TRUE)"
   ]
  },
  {
   "cell_type": "code",
   "execution_count": 5,
   "id": "fb996935-6e9b-4ea8-b02f-1c36dba903ee",
   "metadata": {},
   "outputs": [],
   "source": [
    "#Mutants in KO collection later found to be diploid\n",
    "diploid_set <- c('CNAG_01883', 'CNAG_00039', 'CNAG_01040', 'CNAG_00106', 'CNAG_00394', 'CNAG_04186', 'CNAG_04524', 'CNAG_03114',\n",
    "                 'CNAG_07380', 'CNAG_02335', 'CNAG_03227', 'CNAG_03308', 'CNAG_01175', 'CNAG_02655', 'CNAG_02473', 'CNAG_03965',\n",
    "                 'CNAG_03452', 'CNAG_00110', 'CNAG_00542', 'CNAG_01658', 'CNAG_03171', 'CNAG_04241', 'CNAG_05971', 'CNAG_06027')"
   ]
  },
  {
   "cell_type": "code",
   "execution_count": 6,
   "id": "effa4934",
   "metadata": {},
   "outputs": [],
   "source": [
    "#Pull out relevant columns from gene_info_df\n",
    "gene_info_df <- gene_info_df %>% rename(Gene = Gene.ID, GeneName = Gene.Name.or.Symbol, ProductDescription = Product.Description) %>%\n",
    "    select(Gene, GeneName, ProductDescription)"
   ]
  },
  {
   "cell_type": "code",
   "execution_count": 7,
   "id": "7cb69979",
   "metadata": {},
   "outputs": [],
   "source": [
    "#Set up empty dataframe to contain upstream and downstream KO-seq counts for each mutant\n",
    "my_df <- data.frame(Gene = factor(),\n",
    "                    Sample = factor(),\n",
    "                    PoolName = factor(),\n",
    "                    Condition = factor(),\n",
    "                    UpCount = integer(),\n",
    "                    DownCount = integer())"
   ]
  },
  {
   "cell_type": "code",
   "execution_count": 8,
   "id": "26ff8164",
   "metadata": {},
   "outputs": [],
   "source": [
    "#Script below parses KO-seq .csv files, pulls relevant metadata and read counts, and writes everything to my_df\n",
    "#Note that .csv files had been renamed to a standardized format that is necessary for the script below to parse\n",
    "#Relevant fields in filenames are separate by underscores and are:\n",
    "#[IrrelevantNumber]_PoolIdentifier_MouseIdentifier_KOseqJunction_[RemainderIrrelevant]\n",
    "\n",
    "#Iterate through .csv files\n",
    "for(file_name1 in my_files){\n",
    "    \n",
    "    #Start with files for downstream KO-seq counts\n",
    "    if(grepl('_Down_', file_name1)){\n",
    "\n",
    "        #Make general sample name\n",
    "        sample_name <- paste(tail(strsplit(strsplit(file_name1, '_Down_')[[1]][[1]], '_')[[1]], -1), collapse = '_')\n",
    "\n",
    "        #Pull pool and condition (mouse, PreInput, or PostInput) from file name fields 1 and 2\n",
    "        pool_name <- strsplit(sample_name, '_')[[1]][[1]]\n",
    "        condition <- strsplit(sample_name, '_')[[1]][[2]]\n",
    "\n",
    "        #Find file with corresponding upstream KO-seq counts\n",
    "        for(file_name2 in my_files){\n",
    "            if(grepl('_Up_', file_name2) & paste(tail(strsplit(strsplit(file_name2, '_Up_')[[1]][[1]], '_')[[1]], -1), collapse = '_') == sample_name){\n",
    "                \n",
    "                #Create dataframes containing downstream or upstream counts for each mutant\n",
    "                down_df <- read.csv(paste(my_directory, file_name1, sep = ''), header = TRUE) %>% select(c('Gene', 'Count')) %>% rename(DownCount = Count)\n",
    "                up_df <- read.csv(paste(my_directory, file_name2, sep = ''), header = TRUE) %>% select(c('Gene', 'Count')) %>% rename(UpCount = Count)\n",
    "\n",
    "                #Merge downstream and upstream dfs, pull in KO data from KO_list, rename and reorganize columns,\n",
    "                #convert NA counts to 0, merge in FungiDB gene info, add all rows to my_df\n",
    "                merged_df <- merge(down_df, up_df, by = 'Gene', all = TRUE)\n",
    "                merged_df <- merge(merged_df, KO_list, by = 'Gene', all.y = TRUE)\n",
    "                merged_df <- mutate(merged_df,\n",
    "                                    Sample = factor(sample_name),\n",
    "                                    PoolName = factor(pool_name),\n",
    "                                    Condition = factor(condition)) %>%\n",
    "                select(Gene, Plate, QC, Sample, PoolName, Condition, UpCount, DownCount)\n",
    "                merged_df[is.na(merged_df)] <- as.double(0)\n",
    "                merged_df <- merge(merged_df, gene_info_df, by = 'Gene', all.x = TRUE)\n",
    "                my_df <- rbind(my_df, merged_df)\n",
    "            }\n",
    "        }\n",
    "    }\n",
    "}"
   ]
  },
  {
   "cell_type": "code",
   "execution_count": 9,
   "id": "e0370d5b",
   "metadata": {},
   "outputs": [],
   "source": [
    "#Filter out genes that aren't in current genome annotation, that failed QC, or that are likely diploids\n",
    "my_df <- my_df %>% filter(Gene %in% gene_info_df$Gene, !(QC == \"Fail\"), !(Gene %in% diploid_set))"
   ]
  },
  {
   "cell_type": "code",
   "execution_count": 10,
   "id": "4455e5a4",
   "metadata": {},
   "outputs": [],
   "source": [
    "#Give pools a more human-readable name (numbered 1-10)\n",
    "\n",
    "pool_df <- data.frame(PoolName = c('Plates0004', 'Plates0509', 'Plates1014', 'Plates1519', 'Plates2024',\n",
    "                                  'Plates2529', 'Plates3034', 'Plates3539', 'Plates4044', 'Plates4548'),\n",
    "                     Pool = c('1', '2', '3', '4', '5', '6', '7', '8', '9', '10'))\n",
    "pool_df$PoolPlates <- list(as.character(c(0:4)), as.character(c(5:9)), as.character(c(10:14)), \n",
    "                           as.character(c(15:19)), as.character(c(20:24)), as.character(c(25:29)),\n",
    "                           as.character(c(30:34)), as.character(c(35:39)), as.character(c(40:44)),\n",
    "                           as.character(c(45:48)))\n",
    "\n",
    "my_df <- left_join(my_df, pool_df, by = 'PoolName')\n",
    "my_df <- my_df %>% relocate(Pool, .after = Sample) %>% relocate(PoolPlates, .after = Pool)\n",
    "my_df <- my_df %>% rowwise() %>% filter(Plate %in% PoolPlates) %>% ungroup()"
   ]
  },
  {
   "cell_type": "code",
   "execution_count": 11,
   "id": "f717c056",
   "metadata": {},
   "outputs": [],
   "source": [
    "#Calculate normalized counts and log2 normalized counts for each sample\n",
    "\n",
    "my_df <- my_df %>% mutate(SummedCounts = UpCount + DownCount) %>%\n",
    "    group_by(Sample) %>%\n",
    "    mutate(NormalizedCounts = ((SummedCounts/sum(SummedCounts))*1000000) + 1,\n",
    "           log2NormCounts = log2(NormalizedCounts)) %>%\n",
    "    ungroup()"
   ]
  },
  {
   "cell_type": "code",
   "execution_count": 12,
   "id": "3bba60f2",
   "metadata": {},
   "outputs": [],
   "source": [
    "#Make separate dataframes for each library subpool\n",
    "\n",
    "pool1_df <- my_df %>% filter(Pool == 1)\n",
    "pool2_df <- my_df %>% filter(Pool == 2)\n",
    "pool3_df <- my_df %>% filter(Pool == 3)\n",
    "pool4_df <- my_df %>% filter(Pool == 4)\n",
    "pool5_df <- my_df %>% filter(Pool == 5)\n",
    "pool6_df <- my_df %>% filter(Pool == 6)\n",
    "pool7_df <- my_df %>% filter(Pool == 7)\n",
    "pool8_df <- my_df %>% filter(Pool == 8)\n",
    "pool9_df <- my_df %>% filter(Pool == 9)\n",
    "pool10_df <- my_df %>% filter(Pool == 10)"
   ]
  },
  {
   "cell_type": "code",
   "execution_count": 13,
   "id": "f3043430",
   "metadata": {},
   "outputs": [],
   "source": [
    "#Function to calculate log2 fold change between a mouse and its relevant control\n",
    "\n",
    "calc_L2FC <- function(mouse, control){\n",
    "    L2FC <- mouse - control\n",
    "}"
   ]
  },
  {
   "cell_type": "code",
   "execution_count": 14,
   "id": "6d29fe90",
   "metadata": {},
   "outputs": [],
   "source": [
    "#Function to calculate modified Z score (Zm) from the set of muatant log2 fold changes withiin a single mouse\n",
    "\n",
    "calc_Zm <- function(L2FCs){\n",
    "    (0.6745*(L2FCs - median(L2FCs)))/median(abs(L2FCs - median(L2FCs)))\n",
    "}"
   ]
  },
  {
   "cell_type": "code",
   "execution_count": 15,
   "id": "ea78a3f2",
   "metadata": {},
   "outputs": [],
   "source": [
    "#Function to calculate Z scores from log2 fold changes within a single mouse, given a user-specified mean and sd\n",
    "\n",
    "calc_Z <- function(L2FCs, m, stdev){\n",
    "    (L2FCs-m)/stdev\n",
    "}"
   ]
  },
  {
   "cell_type": "code",
   "execution_count": 16,
   "id": "b8498224",
   "metadata": {},
   "outputs": [],
   "source": [
    "#Function to analyze each mouse dataframe separately\n",
    "\n",
    "analyze_mouse <- function(pool_input_df){\n",
    "\n",
    "#Make a dataframe with just mutants and their summed counts. Reason for this is want counts later to filter out those with low reads\n",
    "summed_counts_df <- pool_input_df %>% select(Gene, Condition, SummedCounts) %>%\n",
    "        pivot_wider(names_from = Condition, values_from = SummedCounts) %>%\n",
    "        rename_with(.fn = function(.x){paste0(.x, '_Counts')}, .cols = -c(Gene))\n",
    "\n",
    "#Make dataframe with just log2 normalized counts\n",
    "log2norm_counts_df <- pool_input_df %>% select(Gene, Condition, log2NormCounts) %>%\n",
    "        pivot_wider(names_from = Condition, values_from = log2NormCounts) %>%\n",
    "        rename_with(.fn = function(.x){paste0(.x, '_log2NormCounts')}, .cols = -c(Gene))\n",
    "\n",
    "#Merge the summed counts and log2 normalized counts dataframes\n",
    "pool_output_df <- merge(summed_counts_df, log2norm_counts_df, by = 'Gene')\n",
    "colnames(pool_output_df) <- gsub(x = colnames(pool_output_df), pattern = 'Mouse0_', replacement = 'Mouse1_')\n",
    "colnames(pool_output_df) <- gsub(x = colnames(pool_output_df), pattern = 'MouseL_', replacement = 'Mouse2_')\n",
    "colnames(pool_output_df) <- gsub(x = colnames(pool_output_df), pattern = 'MouseR_', replacement = 'Mouse3_')\n",
    "colnames(pool_output_df) <- gsub(x = colnames(pool_output_df), pattern = 'MouseLL_', replacement = 'Mouse4_')\n",
    "colnames(pool_output_df) <- gsub(x = colnames(pool_output_df), pattern = 'MouseLR_', replacement = 'Mouse5_')\n",
    "\n",
    "#Filter out mutants with <=10 raw counts or <=10 counts per million\n",
    "pool_output_df <- pool_output_df %>% filter(PostInput_Counts > 10, PostInput_log2NormCounts > log2(10))\n",
    "\n",
    "#Loop through each mouse and make various calculations. In brief to calculate what we'll call an \"adjusted Z score\" (Zadj), first calculate\n",
    "#L2FCs for each mutant in each mouse (relative to the in vitro control culture). Then use a modified (median-based) Z-score (Zm) to identify\n",
    "#outliers and temporarily remove them. Calculate population mean and sd based on that set of mutants without outliers. Then, bring back\n",
    "#the full dataset of L2FCs, including outliers, and convert those to Z-scores using the calculated mean and sd, calling this value Zadj.\n",
    "\n",
    "for(i in 1:length(grep('Mouse.*_log2NormCounts', colnames(pool_output_df)))){\n",
    "    col_index <- grep('Mouse.*_log2NormCounts', colnames(pool_output_df))[i] #Index of relevant mouse column\n",
    "    mouse_log2NormCounts <- colnames(pool_output_df)[col_index] #Variable storing mouse log2NormCounts column\n",
    "    control_log2NormCounts <- 'PostInput_log2NormCounts' #Variable storing control log2NormCounts column\n",
    "    \n",
    "    #Assign column names for L2FC, Zm, and Zadj\n",
    "    new_L2FC_colname <- paste0(strsplit(mouse_log2NormCounts, '_')[[1]][[1]], '_L2FC')\n",
    "    new_Zm_colname <- paste0(strsplit(mouse_log2NormCounts, '_')[[1]][[1]], '_Zm')\n",
    "    new_Zadj_colname <- paste0(strsplit(mouse_log2NormCounts, '_')[[1]][[1]], '_Zadj')\n",
    "    \n",
    "    #Calculate L2FC, Zm\n",
    "    pool_output_df[new_L2FC_colname] <- calc_L2FC(pool_output_df[[mouse_log2NormCounts]], pool_output_df[[control_log2NormCounts]])\n",
    "    pool_output_df[new_Zm_colname] <- calc_Zm(pool_output_df[[new_L2FC_colname]])\n",
    "    \n",
    "    #Make new df without outliers (defined by absolute value of Zm < 3.5). Find mean and sd of dataset without outliers\n",
    "    df_no_outliers <- pool_output_df[abs(pool_output_df[[new_Zm_colname]]) < 3.5,]\n",
    "    mean_no_outliers <- mean(df_no_outliers[[new_L2FC_colname]])\n",
    "    sd_no_outliers <- sd(df_no_outliers[[new_L2FC_colname]])\n",
    "    \n",
    "    #Calculate Zadj for ALL datapoints including outliers. Zadj is defined as Z score using mean and sd from dataset WIITHOUT outliers\n",
    "    pool_output_df[new_Zadj_colname] <- calc_Z(pool_output_df[[new_L2FC_colname]], mean_no_outliers, sd_no_outliers)\n",
    "}\n",
    "\n",
    "#Calculate mean Zadj across replicate mice\n",
    "pool_output_df <- pool_output_df %>% rowwise() %>% mutate(Avg_Zadj = mean(c_across(grep('Mouse.*_Zadj$', colnames(.))))) %>%\n",
    "                        ungroup()\n",
    "}"
   ]
  },
  {
   "cell_type": "code",
   "execution_count": 17,
   "id": "4ce08d74",
   "metadata": {},
   "outputs": [],
   "source": [
    "#Run each pool through the analyze_mouse function\n",
    "\n",
    "pool1_df2 <- analyze_mouse(pool1_df)\n",
    "pool2_df2 <- analyze_mouse(pool2_df)\n",
    "pool3_df2 <- analyze_mouse(pool3_df)\n",
    "pool4_df2 <- analyze_mouse(pool4_df)\n",
    "pool5_df2 <- analyze_mouse(pool5_df)\n",
    "pool6_df2 <- analyze_mouse(pool6_df)\n",
    "pool7_df2 <- analyze_mouse(pool7_df)\n",
    "pool8_df2 <- analyze_mouse(pool8_df)\n",
    "pool9_df2 <- analyze_mouse(pool9_df)\n",
    "pool10_df2 <- analyze_mouse(pool10_df)"
   ]
  },
  {
   "cell_type": "code",
   "execution_count": 18,
   "id": "b9c2846e",
   "metadata": {},
   "outputs": [],
   "source": [
    "#Combine mouse data into a single df\n",
    "\n",
    "mouse_combined_df <- bind_rows(pool1_df2, pool2_df2, pool3_df2, pool4_df2, pool5_df2, pool6_df2, pool7_df2,\n",
    "                               pool8_df2, pool9_df2, pool10_df2)"
   ]
  },
  {
   "cell_type": "code",
   "execution_count": 19,
   "id": "64631881",
   "metadata": {},
   "outputs": [],
   "source": [
    "#Select columns we care about for export\n",
    "\n",
    "mouse_data <- mouse_combined_df %>% select(Gene,\n",
    "                                           PostInput_Counts, Mouse1_Counts, Mouse2_Counts, Mouse3_Counts, Mouse4_Counts, Mouse5_Counts,\n",
    "                                           PostInput_log2NormCounts, Mouse1_log2NormCounts, Mouse2_log2NormCounts, Mouse3_log2NormCounts,\n",
    "                                           Mouse4_log2NormCounts, Mouse5_log2NormCounts,\n",
    "                                           Mouse1_L2FC, Mouse2_L2FC, Mouse3_L2FC, Mouse4_L2FC, Mouse5_L2FC,\n",
    "                                           Mouse1_Zadj, Mouse2_Zadj, Mouse3_Zadj, Mouse4_Zadj, Mouse5_Zadj, Avg_Zadj)"
   ]
  },
  {
   "cell_type": "code",
   "execution_count": 20,
   "id": "5dc90132",
   "metadata": {},
   "outputs": [],
   "source": [
    "#Save mouse analysis as csv\n",
    "\n",
    "#write.csv(mouse_data, '/output_directory/KOLibrary_MouseScreen_Primary.csv')"
   ]
  },
  {
   "cell_type": "code",
   "execution_count": 21,
   "id": "d33b8a08",
   "metadata": {},
   "outputs": [],
   "source": [
    "#Want to look at correlations of mutant abundances between pairs of replicate mice\n",
    "\n",
    "#Create df with log2NormCounts for each replicate mouse\n",
    "pool1_log2NormCounts_cor_df <- pool1_df2 %>% select(Gene, Mouse1_log2NormCounts, Mouse2_log2NormCounts, Mouse3_log2NormCounts, Mouse4_log2NormCounts, Mouse5_log2NormCounts)\n",
    "pool1_log2NormCounts_cor_df <- as.data.frame(pool1_log2NormCounts_cor_df)\n",
    "row.names(pool1_log2NormCounts_cor_df) <- pool1_log2NormCounts_cor_df$Gene\n",
    "pool1_log2NormCounts_cor_df <- pool1_log2NormCounts_cor_df[,-1]\n",
    "\n",
    "#Calculate correlation matrix\n",
    "pool1_log2NormCounts_cor_df <- cor(pool1_log2NormCounts_cor_df, use = 'pairwise.complete.obs', method = 'pearson')\n",
    "\n",
    "#Select unique pairwise correlation from matrix\n",
    "pool1_lower_tri_indices <- lower.tri(pool1_log2NormCounts_cor_df, diag = FALSE)\n",
    "pool1_cor_row_names <- rownames(pool1_log2NormCounts_cor_df)[row(pool1_log2NormCounts_cor_df)[pool1_lower_tri_indices]]\n",
    "pool1_cor_col_names <- colnames(pool1_log2NormCounts_cor_df)[col(pool1_log2NormCounts_cor_df)[pool1_lower_tri_indices]]\n",
    "\n",
    "#Write data to correlation table\n",
    "pool1_log2NormCounts_cor_table <- data.frame(MouseA = pool1_cor_row_names,\n",
    "                              MouseB = pool1_cor_col_names,\n",
    "                              Pearsonr = pool1_log2NormCounts_cor_df[pool1_lower_tri_indices],\n",
    "                              Pool = 1)\n",
    "\n",
    "#Repeat for other 9 subpools\n",
    "\n",
    "pool2_log2NormCounts_cor_df <- pool2_df2 %>% select(Gene, Mouse1_log2NormCounts, Mouse2_log2NormCounts, Mouse3_log2NormCounts, Mouse4_log2NormCounts, Mouse5_log2NormCounts)\n",
    "pool2_log2NormCounts_cor_df <- as.data.frame(pool2_log2NormCounts_cor_df)\n",
    "row.names(pool2_log2NormCounts_cor_df) <- pool2_log2NormCounts_cor_df$Gene\n",
    "pool2_log2NormCounts_cor_df <- pool2_log2NormCounts_cor_df[,-1]\n",
    "pool2_log2NormCounts_cor_df <- cor(pool2_log2NormCounts_cor_df, use = 'pairwise.complete.obs', method = 'pearson')\n",
    "pool2_lower_tri_indices <- lower.tri(pool2_log2NormCounts_cor_df, diag = FALSE)\n",
    "pool2_cor_row_names <- rownames(pool2_log2NormCounts_cor_df)[row(pool2_log2NormCounts_cor_df)[pool2_lower_tri_indices]]\n",
    "pool2_cor_col_names <- colnames(pool2_log2NormCounts_cor_df)[col(pool2_log2NormCounts_cor_df)[pool2_lower_tri_indices]]\n",
    "pool2_log2NormCounts_cor_table <- data.frame(MouseA = pool2_cor_row_names,\n",
    "                              MouseB = pool2_cor_col_names,\n",
    "                              Pearsonr = pool2_log2NormCounts_cor_df[pool2_lower_tri_indices],\n",
    "                              Pool = 2)\n",
    "\n",
    "pool3_log2NormCounts_cor_df <- pool3_df2 %>% select(Gene, Mouse1_log2NormCounts, Mouse2_log2NormCounts, Mouse3_log2NormCounts, Mouse4_log2NormCounts, Mouse5_log2NormCounts)\n",
    "pool3_log2NormCounts_cor_df <- as.data.frame(pool3_log2NormCounts_cor_df)\n",
    "row.names(pool3_log2NormCounts_cor_df) <- pool3_log2NormCounts_cor_df$Gene\n",
    "pool3_log2NormCounts_cor_df <- pool3_log2NormCounts_cor_df[,-1]\n",
    "pool3_log2NormCounts_cor_df <- cor(pool3_log2NormCounts_cor_df, use = 'pairwise.complete.obs', method = 'pearson')\n",
    "pool3_lower_tri_indices <- lower.tri(pool3_log2NormCounts_cor_df, diag = FALSE)\n",
    "pool3_cor_row_names <- rownames(pool3_log2NormCounts_cor_df)[row(pool3_log2NormCounts_cor_df)[pool3_lower_tri_indices]]\n",
    "pool3_cor_col_names <- colnames(pool3_log2NormCounts_cor_df)[col(pool3_log2NormCounts_cor_df)[pool3_lower_tri_indices]]\n",
    "pool3_log2NormCounts_cor_table <- data.frame(MouseA = pool3_cor_row_names,\n",
    "                              MouseB = pool3_cor_col_names,\n",
    "                              Pearsonr = pool3_log2NormCounts_cor_df[pool3_lower_tri_indices],\n",
    "                              Pool = 3)\n",
    "\n",
    "pool4_log2NormCounts_cor_df <- pool4_df2 %>% select(Gene, Mouse1_log2NormCounts, Mouse2_log2NormCounts, Mouse3_log2NormCounts, Mouse4_log2NormCounts, Mouse5_log2NormCounts)\n",
    "pool4_log2NormCounts_cor_df <- as.data.frame(pool4_log2NormCounts_cor_df)\n",
    "row.names(pool4_log2NormCounts_cor_df) <- pool4_log2NormCounts_cor_df$Gene\n",
    "pool4_log2NormCounts_cor_df <- pool4_log2NormCounts_cor_df[,-1]\n",
    "pool4_log2NormCounts_cor_df <- cor(pool4_log2NormCounts_cor_df, use = 'pairwise.complete.obs', method = 'pearson')\n",
    "pool4_lower_tri_indices <- lower.tri(pool4_log2NormCounts_cor_df, diag = FALSE)\n",
    "pool4_cor_row_names <- rownames(pool4_log2NormCounts_cor_df)[row(pool4_log2NormCounts_cor_df)[pool4_lower_tri_indices]]\n",
    "pool4_cor_col_names <- colnames(pool4_log2NormCounts_cor_df)[col(pool4_log2NormCounts_cor_df)[pool4_lower_tri_indices]]\n",
    "pool4_log2NormCounts_cor_table <- data.frame(MouseA = pool4_cor_row_names,\n",
    "                              MouseB = pool4_cor_col_names,\n",
    "                              Pearsonr = pool4_log2NormCounts_cor_df[pool4_lower_tri_indices],\n",
    "                              Pool = 4)\n",
    "\n",
    "pool5_log2NormCounts_cor_df <- pool5_df2 %>% select(Gene, Mouse1_log2NormCounts, Mouse2_log2NormCounts, Mouse3_log2NormCounts, Mouse4_log2NormCounts, Mouse5_log2NormCounts)\n",
    "pool5_log2NormCounts_cor_df <- as.data.frame(pool5_log2NormCounts_cor_df)\n",
    "row.names(pool5_log2NormCounts_cor_df) <- pool5_log2NormCounts_cor_df$Gene\n",
    "pool5_log2NormCounts_cor_df <- pool5_log2NormCounts_cor_df[,-1]\n",
    "pool5_log2NormCounts_cor_df <- cor(pool5_log2NormCounts_cor_df, use = 'pairwise.complete.obs', method = 'pearson')\n",
    "pool5_lower_tri_indices <- lower.tri(pool5_log2NormCounts_cor_df, diag = FALSE)\n",
    "pool5_cor_row_names <- rownames(pool5_log2NormCounts_cor_df)[row(pool5_log2NormCounts_cor_df)[pool5_lower_tri_indices]]\n",
    "pool5_cor_col_names <- colnames(pool5_log2NormCounts_cor_df)[col(pool5_log2NormCounts_cor_df)[pool5_lower_tri_indices]]\n",
    "pool5_log2NormCounts_cor_table <- data.frame(MouseA = pool5_cor_row_names,\n",
    "                              MouseB = pool5_cor_col_names,\n",
    "                              Pearsonr = pool5_log2NormCounts_cor_df[pool5_lower_tri_indices],\n",
    "                              Pool = 5)\n",
    "\n",
    "pool6_log2NormCounts_cor_df <- pool6_df2 %>% select(Gene, Mouse1_log2NormCounts, Mouse2_log2NormCounts, Mouse3_log2NormCounts, Mouse4_log2NormCounts, Mouse5_log2NormCounts)\n",
    "pool6_log2NormCounts_cor_df <- as.data.frame(pool6_log2NormCounts_cor_df)\n",
    "row.names(pool6_log2NormCounts_cor_df) <- pool6_log2NormCounts_cor_df$Gene\n",
    "pool6_log2NormCounts_cor_df <- pool6_log2NormCounts_cor_df[,-1]\n",
    "pool6_log2NormCounts_cor_df <- cor(pool6_log2NormCounts_cor_df, use = 'pairwise.complete.obs', method = 'pearson')\n",
    "pool6_lower_tri_indices <- lower.tri(pool6_log2NormCounts_cor_df, diag = FALSE)\n",
    "pool6_cor_row_names <- rownames(pool6_log2NormCounts_cor_df)[row(pool6_log2NormCounts_cor_df)[pool6_lower_tri_indices]]\n",
    "pool6_cor_col_names <- colnames(pool6_log2NormCounts_cor_df)[col(pool6_log2NormCounts_cor_df)[pool6_lower_tri_indices]]\n",
    "pool6_log2NormCounts_cor_table <- data.frame(MouseA = pool6_cor_row_names,\n",
    "                              MouseB = pool6_cor_col_names,\n",
    "                              Pearsonr = pool6_log2NormCounts_cor_df[pool6_lower_tri_indices],\n",
    "                              Pool = 6)\n",
    "\n",
    "pool7_log2NormCounts_cor_df <- pool7_df2 %>% select(Gene, Mouse1_log2NormCounts, Mouse2_log2NormCounts, Mouse3_log2NormCounts, Mouse4_log2NormCounts, Mouse5_log2NormCounts)\n",
    "pool7_log2NormCounts_cor_df <- as.data.frame(pool7_log2NormCounts_cor_df)\n",
    "row.names(pool7_log2NormCounts_cor_df) <- pool7_log2NormCounts_cor_df$Gene\n",
    "pool7_log2NormCounts_cor_df <- pool7_log2NormCounts_cor_df[,-1]\n",
    "pool7_log2NormCounts_cor_df <- cor(pool7_log2NormCounts_cor_df, use = 'pairwise.complete.obs', method = 'pearson')\n",
    "pool7_lower_tri_indices <- lower.tri(pool7_log2NormCounts_cor_df, diag = FALSE)\n",
    "pool7_cor_row_names <- rownames(pool7_log2NormCounts_cor_df)[row(pool7_log2NormCounts_cor_df)[pool7_lower_tri_indices]]\n",
    "pool7_cor_col_names <- colnames(pool7_log2NormCounts_cor_df)[col(pool7_log2NormCounts_cor_df)[pool7_lower_tri_indices]]\n",
    "pool7_log2NormCounts_cor_table <- data.frame(MouseA = pool7_cor_row_names,\n",
    "                              MouseB = pool7_cor_col_names,\n",
    "                              Pearsonr = pool7_log2NormCounts_cor_df[pool7_lower_tri_indices],\n",
    "                              Pool = 7)\n",
    "\n",
    "pool8_log2NormCounts_cor_df <- pool8_df2 %>% select(Gene, Mouse2_log2NormCounts, Mouse3_log2NormCounts, Mouse4_log2NormCounts, Mouse5_log2NormCounts)\n",
    "pool8_log2NormCounts_cor_df <- as.data.frame(pool8_log2NormCounts_cor_df)\n",
    "row.names(pool8_log2NormCounts_cor_df) <- pool8_log2NormCounts_cor_df$Gene\n",
    "pool8_log2NormCounts_cor_df <- pool8_log2NormCounts_cor_df[,-1]\n",
    "pool8_log2NormCounts_cor_df <- cor(pool8_log2NormCounts_cor_df, use = 'pairwise.complete.obs', method = 'pearson')\n",
    "pool8_lower_tri_indices <- lower.tri(pool8_log2NormCounts_cor_df, diag = FALSE)\n",
    "pool8_cor_row_names <- rownames(pool8_log2NormCounts_cor_df)[row(pool8_log2NormCounts_cor_df)[pool8_lower_tri_indices]]\n",
    "pool8_cor_col_names <- colnames(pool8_log2NormCounts_cor_df)[col(pool8_log2NormCounts_cor_df)[pool8_lower_tri_indices]]\n",
    "pool8_log2NormCounts_cor_table <- data.frame(MouseA = pool8_cor_row_names,\n",
    "                              MouseB = pool8_cor_col_names,\n",
    "                              Pearsonr = pool8_log2NormCounts_cor_df[pool8_lower_tri_indices],\n",
    "                              Pool = 8)\n",
    "\n",
    "pool9_log2NormCounts_cor_df <- pool9_df2 %>% select(Gene, Mouse1_log2NormCounts, Mouse3_log2NormCounts, Mouse4_log2NormCounts, Mouse5_log2NormCounts)\n",
    "pool9_log2NormCounts_cor_df <- as.data.frame(pool9_log2NormCounts_cor_df)\n",
    "row.names(pool9_log2NormCounts_cor_df) <- pool9_log2NormCounts_cor_df$Gene\n",
    "pool9_log2NormCounts_cor_df <- pool9_log2NormCounts_cor_df[,-1]\n",
    "pool9_log2NormCounts_cor_df <- cor(pool9_log2NormCounts_cor_df, use = 'pairwise.complete.obs', method = 'pearson')\n",
    "pool9_lower_tri_indices <- lower.tri(pool9_log2NormCounts_cor_df, diag = FALSE)\n",
    "pool9_cor_row_names <- rownames(pool9_log2NormCounts_cor_df)[row(pool9_log2NormCounts_cor_df)[pool9_lower_tri_indices]]\n",
    "pool9_cor_col_names <- colnames(pool9_log2NormCounts_cor_df)[col(pool9_log2NormCounts_cor_df)[pool9_lower_tri_indices]]\n",
    "pool9_log2NormCounts_cor_table <- data.frame(MouseA = pool9_cor_row_names,\n",
    "                              MouseB = pool9_cor_col_names,\n",
    "                              Pearsonr = pool9_log2NormCounts_cor_df[pool9_lower_tri_indices],\n",
    "                              Pool = 9)\n",
    "\n",
    "pool10_log2NormCounts_cor_df <- pool10_df2 %>% select(Gene, Mouse1_log2NormCounts, Mouse2_log2NormCounts, Mouse3_log2NormCounts, Mouse4_log2NormCounts, Mouse5_log2NormCounts)\n",
    "pool10_log2NormCounts_cor_df <- as.data.frame(pool10_log2NormCounts_cor_df)\n",
    "row.names(pool10_log2NormCounts_cor_df) <- pool10_log2NormCounts_cor_df$Gene\n",
    "pool10_log2NormCounts_cor_df <- pool10_log2NormCounts_cor_df[,-1]\n",
    "pool10_log2NormCounts_cor_df <- cor(pool10_log2NormCounts_cor_df, use = 'pairwise.complete.obs', method = 'pearson')\n",
    "pool10_lower_tri_indices <- lower.tri(pool10_log2NormCounts_cor_df, diag = FALSE)\n",
    "pool10_cor_row_names <- rownames(pool10_log2NormCounts_cor_df)[row(pool10_log2NormCounts_cor_df)[pool10_lower_tri_indices]]\n",
    "pool10_cor_col_names <- colnames(pool10_log2NormCounts_cor_df)[col(pool10_log2NormCounts_cor_df)[pool10_lower_tri_indices]]\n",
    "pool10_log2NormCounts_cor_table <- data.frame(MouseA = pool10_cor_row_names,\n",
    "                              MouseB = pool10_cor_col_names,\n",
    "                              Pearsonr = pool10_log2NormCounts_cor_df[pool10_lower_tri_indices],\n",
    "                              Pool = 10)"
   ]
  },
  {
   "cell_type": "code",
   "execution_count": 22,
   "id": "864e8488",
   "metadata": {},
   "outputs": [],
   "source": [
    "#Compile correlation data for each of the 10 subpopols into a single df\n",
    "mouse_log2NormCounts_cor_combined <- rbind(pool1_log2NormCounts_cor_table, pool2_log2NormCounts_cor_table, pool3_log2NormCounts_cor_table, pool4_log2NormCounts_cor_table, pool5_log2NormCounts_cor_table,\n",
    "                                 pool6_log2NormCounts_cor_table, pool7_log2NormCounts_cor_table, pool8_log2NormCounts_cor_table, pool9_log2NormCounts_cor_table, pool10_log2NormCounts_cor_table)"
   ]
  },
  {
   "cell_type": "code",
   "execution_count": 23,
   "id": "08098dd0",
   "metadata": {},
   "outputs": [
    {
     "name": "stderr",
     "output_type": "stream",
     "text": [
      "Warning message:\n",
      "“\u001b[1m\u001b[22mThe `fun.y` argument of `stat_summary()` is deprecated as of ggplot2 3.3.0.\n",
      "\u001b[36mℹ\u001b[39m Please use the `fun` argument instead.”\n",
      "Warning message:\n",
      "“\u001b[1m\u001b[22mUsing `size` aesthetic for lines was deprecated in ggplot2 3.4.0.\n",
      "\u001b[36mℹ\u001b[39m Please use `linewidth` instead.”\n"
     ]
    },
    {
     "data": {
      "image/png": "[encoded data removed]",
      "text/plain": [
       "plot without title"
      ]
     },
     "metadata": {
      "image/png": {
       "height": 420,
       "width": 420
      }
     },
     "output_type": "display_data"
    }
   ],
   "source": [
    "#Fig S6A\n",
    "\n",
    "mouse_log2NormCounts_cor_combined %>% ggplot(aes(as.factor(Pool), Pearsonr)) +\n",
    "            geom_dotplot(binaxis = 'y', stackdir = 'center', fill = 'grey60', dotsize = 20, binpositions = 'all', binwidth = 0.001) +\n",
    "            scale_y_continuous(breaks = seq(0, 1, 0.1), limits = c(0,1)) +\n",
    "            theme_linedraw() +\n",
    "            theme(text = element_text(family = 'Arial'),\n",
    "                  panel.grid.minor = element_blank(), axis.text = element_text(size = 20), axis.title = element_text(size = 24)) +\n",
    "            labs(x = 'Subpool', y = 'Pearson r') +\n",
    "            stat_summary(fun.y = median, geom = 'crossbar', width = 0.75,\n",
    "                         size = 0.5, color = 'black')"
   ]
  },
  {
   "cell_type": "code",
   "execution_count": 24,
   "id": "5fd96418",
   "metadata": {},
   "outputs": [
    {
     "data": {
      "text/html": [
       "0.90119307717632"
      ],
      "text/latex": [
       "0.90119307717632"
      ],
      "text/markdown": [
       "0.90119307717632"
      ],
      "text/plain": [
       "[1] 0.9011931"
      ]
     },
     "metadata": {},
     "output_type": "display_data"
    },
    {
     "data": {
      "image/png": "[encoded data removed]",
      "text/plain": [
       "plot without title"
      ]
     },
     "metadata": {
      "image/png": {
       "height": 420,
       "width": 420
      }
     },
     "output_type": "display_data"
    }
   ],
   "source": [
    "#Fig S6B\n",
    "\n",
    "cor(pool7_df2$Mouse1_log2NormCounts, pool7_df2$Mouse4_log2NormCounts, use = 'pairwise.complete.obs', method = 'pearson')\n",
    "\n",
    "pool7_df2 %>% ggplot(aes(Mouse1_log2NormCounts, Mouse4_log2NormCounts)) + geom_point(color = 'grey60') +\n",
    "                scale_x_continuous(breaks = seq(0,16,2), limits = c(0,16)) +\n",
    "                scale_y_continuous(breaks = seq(0,16,2), limits = c(0,16)) +\n",
    "                theme_linedraw() +\n",
    "                geom_abline(intercept = -0, slope = 1, linetype = 'dashed') +\n",
    "                theme(text = element_text(family = 'Arial'),,\n",
    "                      panel.grid.major = element_blank(), panel.grid.minor = element_blank(),\n",
    "                axis.text = element_text(size = 20), axis.title = element_text(size = 22)) +\n",
    "                labs(x = 'log2(counts per million), Subpool 7, Mouse 1', y = 'log2(counts per million), Subpool 7, Mouse 4')"
   ]
  },
  {
   "cell_type": "code",
   "execution_count": null,
   "id": "80e0081f-27c7-4ac8-b797-e8058875abef",
   "metadata": {},
   "outputs": [],
   "source": []
  }
 ],
 "metadata": {
  "kernelspec": {
   "display_name": "R",
   "language": "R",
   "name": "ir"
  },
  "language_info": {
   "codemirror_mode": "r",
   "file_extension": ".r",
   "mimetype": "text/x-r-source",
   "name": "R",
   "pygments_lexer": "r",
   "version": "4.3.2"
  }
 },
 "nbformat": 4,
 "nbformat_minor": 5
}
